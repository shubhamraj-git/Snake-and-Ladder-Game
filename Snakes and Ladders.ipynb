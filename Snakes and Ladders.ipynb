{
 "cells": [
  {
   "cell_type": "markdown",
   "metadata": {
    "id": "LPyzJGnq6OJ0"
   },
   "source": [
    "# Shubham Raj  \n",
    "### Snakes and ladders"
   ]
  },
  {
   "cell_type": "markdown",
   "metadata": {
    "id": "7xeDXuXo6OJ7"
   },
   "source": [
    "### Starting of game, declaration and assignment of initial variable"
   ]
  },
  {
   "cell_type": "code",
   "execution_count": 1,
   "metadata": {
    "colab": {
     "base_uri": "https://localhost:8080/"
    },
    "executionInfo": {
     "elapsed": 33331,
     "status": "ok",
     "timestamp": 1610896517457,
     "user": {
      "displayName": "Shubham Raj",
      "photoUrl": "https://lh3.googleusercontent.com/a-/AOh14Gi-HWCLioq7r4n_DDkVUR57B3OYuZGp66WbAkuJFw=s64",
      "userId": "08387986200102772518"
     },
     "user_tz": -330
    },
    "id": "e0BMSk736OJ8",
    "outputId": "4544d5d1-ebb2-48ce-b228-49054f98cf4b"
   },
   "outputs": [
    {
     "name": "stdout",
     "output_type": "stream",
     "text": [
      "**************************************************\n",
      "SNAKE AND LADDER GAME\n",
      "**************************************************\n",
      "\n",
      "Enter the name of the player 1:Shubham\n",
      "Enter the name of the player 2:Shivam\n",
      "**************************************************\n",
      "Hello, Shubham and Shivam\n",
      "Let us start :\n"
     ]
    }
   ],
   "source": [
    "import random #importing it for generating random number\n",
    "print(\"*\"*50)\n",
    "print(\"SNAKE AND LADDER GAME\")\n",
    "print(\"*\"*50)\n",
    "print()\n",
    "\n",
    "snakes= {17 : 7, 54 : 34, 62 : 19, 98 : 79}    #as given in question\n",
    "ladders= {3 : 38, 24 : 33, 42 : 93, 72 : 84}   #as given in question\n",
    "\n",
    "p1=0   #for updated position of player 1\n",
    "p2=0   #for updated position of player 2\n",
    "flag=0 #For handling quit option\n",
    "\n",
    "player1 = input(\"Enter the name of the player 1:\")\n",
    "player2 = input(\"Enter the name of the player 2:\")\n",
    "print(\"*\"*50)\n",
    "print(f\"Hello, {player1} and {player2}\")\n",
    "print(\"Let us start :\")"
   ]
  },
  {
   "cell_type": "markdown",
   "metadata": {
    "id": "9dGbsdV06OJ9"
   },
   "source": [
    "### Input Function for the game"
   ]
  },
  {
   "cell_type": "code",
   "execution_count": 2,
   "metadata": {
    "executionInfo": {
     "elapsed": 1909,
     "status": "ok",
     "timestamp": 1610896525021,
     "user": {
      "displayName": "Shubham Raj",
      "photoUrl": "https://lh3.googleusercontent.com/a-/AOh14Gi-HWCLioq7r4n_DDkVUR57B3OYuZGp66WbAkuJFw=s64",
      "userId": "08387986200102772518"
     },
     "user_tz": -330
    },
    "id": "6-rYG9jb6OJ9"
   },
   "outputs": [],
   "source": [
    "def play(player):\n",
    "    global flag     #to update global variable flag in the function\n",
    "    if(player==1):\n",
    "        x=input(f\"Player 1 {player1} : \")\n",
    "    else:\n",
    "        x=input(f\"Player 2 {player2} : \")\n",
    "    if(x.lower()==\"roll\"):    #Accepting normal roll,Roll,ROLL cases for good user experience\n",
    "        x = random.randint(1,6)\n",
    "        print(\"You have chosen automatic mode\")\n",
    "    elif(x.isdigit()):        #Checking whether string is number or not\n",
    "        x = int(x)            #Type casting it to int\n",
    "        if(x<1 or x>20):      #Checking number lies between 1 to 20\n",
    "            print(\"Oops! you have chosen wrong number,try between 1 to 20 or try roll for auto mode\")\n",
    "            x = play(player)  #Giving chance again due to invalid number\n",
    "        else:\n",
    "            print(\"You have chosen Manual mode\")\n",
    "    elif(x.lower()==\"quit\"):  #Accepting normal quit,QUIT,Quit cases for good user experience\n",
    "        flag=1\n",
    "    else:\n",
    "        print(\"Invalid input, Try roll for auto mode or number between 1 to 20 for manual mode\")\n",
    "        x = play(player)\n",
    "    return x"
   ]
  },
  {
   "cell_type": "markdown",
   "metadata": {
    "id": "IJB_P4Vu6OJ9"
   },
   "source": [
    "### Snake ladder Function"
   ]
  },
  {
   "cell_type": "code",
   "execution_count": 3,
   "metadata": {
    "executionInfo": {
     "elapsed": 2040,
     "status": "ok",
     "timestamp": 1610896526374,
     "user": {
      "displayName": "Shubham Raj",
      "photoUrl": "https://lh3.googleusercontent.com/a-/AOh14Gi-HWCLioq7r4n_DDkVUR57B3OYuZGp66WbAkuJFw=s64",
      "userId": "08387986200102772518"
     },
     "user_tz": -330
    },
    "id": "GqNq76CK6OJ-"
   },
   "outputs": [],
   "source": [
    "def snake_ladder(p,x):\n",
    "    p+=x;\n",
    "    if p in snakes.keys():          #checking updated position in snakes dictionary\n",
    "        p=snakes[p]                 #updating value of current position\n",
    "        print(\"Bad luck!! :-( Snake bite you\")\n",
    "        print(f\"Your final position is {p} \\n \\n\")\n",
    "    elif p in ladders.keys():       #checking updated position in ladder dictionary\n",
    "        p=ladders[p]                #updating value of current position\n",
    "        print(\"Wooow!! :-) you got ladder\")\n",
    "        print(f\"Your final position is {p} \\n \\n\")\n",
    "    else:\n",
    "        print(f\"Your final position is {p} \\n \\n\")\n",
    "    return p"
   ]
  },
  {
   "cell_type": "markdown",
   "metadata": {
    "id": "RbkUB9rJ6OJ-"
   },
   "source": [
    "### Main Game Function"
   ]
  },
  {
   "cell_type": "code",
   "execution_count": null,
   "metadata": {
    "colab": {
     "base_uri": "https://localhost:8080/"
    },
    "id": "xqLWYdED6OJ-",
    "outputId": "5103df97-0a47-4510-ea10-f5af8056cbd2"
   },
   "outputs": [
    {
     "name": "stdout",
     "output_type": "stream",
     "text": [
      "Lets play : \n",
      " \n",
      "\n",
      "Player 1 Shubham : rdvj\n",
      "Invalid input, Try roll for auto mode or number between 1 to 20 for manual mode\n",
      "Player 1 Shubham : roll\n",
      "You have chosen automatic mode\n",
      "You got a 4\n",
      "Your final position is 4 \n",
      " \n",
      "\n",
      "Player 2 Shivam : 56\n",
      "Oops! you have chosen wrong number,try between 1 to 20 or try roll for auto mode\n",
      "Player 2 Shivam : 15\n",
      "You have chosen Manual mode\n",
      "You got a 15\n",
      "Your final position is 15 \n",
      " \n",
      "\n",
      "Player 1 Shubham : 13\n",
      "You have chosen Manual mode\n",
      "You got a 13\n",
      "Bad luck!! :-( Snake bite you\n",
      "Your final position is 7 \n",
      " \n",
      "\n",
      "Player 2 Shivam : quit\n",
      "**************************************************\n",
      " We are said to see you quiting Shivam. \n",
      " Player 1 Shubham won \n",
      " Congratulations!! Player 1 Shubham\n",
      " Game successfully completed\n",
      "**************************************************\n"
     ]
    }
   ],
   "source": [
    "print(\"Lets play : \\n \\n\")\n",
    "while(p1<100 and p2<100):\n",
    "    \n",
    "    #For player 1\n",
    "    \n",
    "    flag=0                       #Since it's value could be changed during other playes's operation       \n",
    "    x1 = play(1)\n",
    "    if(flag==1):                 #Handling quit entered by user\n",
    "        print(\"*\"*50)\n",
    "        print(f\" We are said to see you quiting {player1}. \\n Player 2 {player2} won \\n Congratulations!! Player 2 {player2}\")\n",
    "        print(\" Game successfully completed\")\n",
    "        print(\"*\"*50)\n",
    "        break\n",
    "    print(f\"You got a {x1}\")\n",
    "    if(p1+x1<=100):              #since at last moment if user needs 2 points and he gets 4, his chance should be skipped\n",
    "        p1=snake_ladder(p1,x1)\n",
    "    else:\n",
    "        print(\"Since you got more than required, try again for better luck in next chance.\")\n",
    "        print(f\"Your final position is {p1} \\n \\n\")\n",
    "    if(p1==100):                 #If he wins the game\n",
    "        print()\n",
    "        print(\"*\"*50)\n",
    "        print(f\"Congartulations!! Player 1 {player1} won the game\")\n",
    "        print(f\"Better luck next time Player 2 {player2}\")\n",
    "        print(\"Game successfully completed\")\n",
    "        break \n",
    "        \n",
    "    #For player 2\n",
    "    \n",
    "    flag=0                      #Since it's value could be changed during other playes's operation\n",
    "    x2 = play(2) \n",
    "    if(flag==1):                #Handling quit entered by user\n",
    "        print(\"*\"*50)\n",
    "        print(f\" We are said to see you quiting {player2}. \\n Player 1 {player1} won \\n Congratulations!! Player 1 {player1}\")\n",
    "        print(\" Game successfully completed\")\n",
    "        print(\"*\"*50)\n",
    "        break\n",
    "    print(f\"You got a {x2}\")\n",
    "    if(p2+x2<=100):             #since at last moment if user needs 2 points and he gets 4, his chance should be skipped\n",
    "        p2=snake_ladder(p2,x2)\n",
    "    else:\n",
    "        print(\"Since you got more than required, try again for better luck in next chance.\")\n",
    "        print(f\"Your final position is {p2} \\n \\n\")\n",
    "    if(p2==100):                #If he wins the game\n",
    "        print()\n",
    "        print(\"*\"*50)\n",
    "        print(\"Congratulations!! Player 2 \"+ player2 + \" won the game\")\n",
    "        print(f\"Better luck next time Player 1 {player1}\")\n",
    "        print(\"Game successfully completed\")\n",
    "        print(\"*\"*50)\n",
    "        break    "
   ]
  },
  {
   "cell_type": "code",
   "execution_count": null,
   "metadata": {
    "id": "bUCvLn2f6OJ_"
   },
   "outputs": [],
   "source": []
  }
 ],
 "metadata": {
  "colab": {
   "name": "DoctorOctopus_1805432_SnakesAndLadders.ipynb",
   "provenance": []
  },
  "kernelspec": {
   "display_name": "Python 3",
   "language": "python",
   "name": "python3"
  },
  "language_info": {
   "codemirror_mode": {
    "name": "ipython",
    "version": 3
   },
   "file_extension": ".py",
   "mimetype": "text/x-python",
   "name": "python",
   "nbconvert_exporter": "python",
   "pygments_lexer": "ipython3",
   "version": "3.8.8"
  }
 },
 "nbformat": 4,
 "nbformat_minor": 1
}
